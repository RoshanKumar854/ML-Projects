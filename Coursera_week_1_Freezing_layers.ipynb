{
  "nbformat": 4,
  "nbformat_minor": 0,
  "metadata": {
    "colab": {
      "name": "Coursera week 1-Freezing layers.ipynb",
      "provenance": [],
      "authorship_tag": "ABX9TyNcilLjTUU17AAtheY3WMXB",
      "include_colab_link": true
    },
    "kernelspec": {
      "name": "python3",
      "display_name": "Python 3"
    },
    "language_info": {
      "name": "python"
    }
  },
  "cells": [
    {
      "cell_type": "markdown",
      "metadata": {
        "id": "view-in-github",
        "colab_type": "text"
      },
      "source": [
        "<a href=\"https://colab.research.google.com/github/RoshanKumar854/ML-Projects/blob/main/Coursera_week_1_Freezing_layers.ipynb\" target=\"_parent\"><img src=\"https://colab.research.google.com/assets/colab-badge.svg\" alt=\"Open In Colab\"/></a>"
      ]
    },
    {
      "cell_type": "code",
      "execution_count": 117,
      "metadata": {
        "id": "n-6rszsfFcmL"
      },
      "outputs": [],
      "source": [
        "import numpy as np\n",
        "import matplotlib.pyplot as plt"
      ]
    },
    {
      "cell_type": "code",
      "source": [
        "from tensorflow.keras.models import Sequential\n",
        "from tensorflow.keras import layers\n",
        "\n",
        "model = Sequential([\n",
        "                    layers.Dense(4 , input_shape=(4,), activation='relu', kernel_initializer='random_uniform',\n",
        "                                 bias_initializer='ones'),\n",
        "                    layers.Dense(2, activation='relu', kernel_initializer='lecun_normal', bias_initializer='ones'),\n",
        "                    layers.Dense(4, activation='softmax')\n",
        "\n",
        "])"
      ],
      "metadata": {
        "id": "gjI5kAkXNOqa"
      },
      "execution_count": 118,
      "outputs": []
    },
    {
      "cell_type": "code",
      "source": [
        "model.summary()"
      ],
      "metadata": {
        "colab": {
          "base_uri": "https://localhost:8080/"
        },
        "id": "9zXIRv8PPhq9",
        "outputId": "edd19ef1-fe50-42b7-df1e-d01b9c53c499"
      },
      "execution_count": 119,
      "outputs": [
        {
          "output_type": "stream",
          "name": "stdout",
          "text": [
            "Model: \"sequential_14\"\n",
            "_________________________________________________________________\n",
            " Layer (type)                Output Shape              Param #   \n",
            "=================================================================\n",
            " dense_42 (Dense)            (None, 4)                 20        \n",
            "                                                                 \n",
            " dense_43 (Dense)            (None, 2)                 10        \n",
            "                                                                 \n",
            " dense_44 (Dense)            (None, 4)                 12        \n",
            "                                                                 \n",
            "=================================================================\n",
            "Total params: 42\n",
            "Trainable params: 42\n",
            "Non-trainable params: 0\n",
            "_________________________________________________________________\n"
          ]
        }
      ]
    },
    {
      "cell_type": "code",
      "source": [
        "def get_weights(model):\n",
        "  return [e.weights[0].numpy() for e in model.layers]\n",
        "\n",
        "def get_biases(model):\n",
        "   return [e.bias.numpy() for e in model.layers]\n",
        "   \n",
        "def plot_delta_weights(W0_layers, W1_layers, b0_layers, b1_layers):\n",
        "  plt.figure(figsize=(8,8))\n",
        "  for n in range(3):\n",
        "    delta_1 = W1_layers[n] - W0_layers[n]\n",
        "    print('Layer'+'str(n)+:bias variation:', np.linalg.norm(b1_layers[n]-b0_layers[n]))\n",
        "    ax = plt.subplot(1, 3, n+1)\n",
        "    plt.imshow(delta_1)\n",
        "    plt.title('Layer'+str(n))\n",
        "    plt.axis('off')\n",
        "  plt.colorbar()\n",
        "  plt.suptitle('Weight matrices variation')  \n"
      ],
      "metadata": {
        "id": "FDcnDHAPXpY_"
      },
      "execution_count": 120,
      "outputs": []
    },
    {
      "cell_type": "code",
      "source": [
        "W0_layers = get_weights(model)\n",
        "b0_layers = get_biases(model)"
      ],
      "metadata": {
        "id": "kZ_PZn9tRQ8i"
      },
      "execution_count": 121,
      "outputs": []
    },
    {
      "cell_type": "code",
      "source": [
        "X_train = np.random.random((100, 4))\n",
        "y_train = X_train\n",
        "\n",
        "X_test = np.random.random((20,4))\n",
        "y_test = X_test"
      ],
      "metadata": {
        "id": "PAVM6vRNPrPD"
      },
      "execution_count": 122,
      "outputs": []
    },
    {
      "cell_type": "code",
      "source": [
        "model.compile(optimizer = 'adam',\n",
        "              loss='mse',\n",
        "              metrics=['acc'])\n",
        "\n",
        "model.fit(X_train, y_train, epochs=50, verbose=False)"
      ],
      "metadata": {
        "colab": {
          "base_uri": "https://localhost:8080/"
        },
        "id": "GrdC6iSuRqYQ",
        "outputId": "a6bddb9e-d05b-43eb-9238-4197e2d4b756"
      },
      "execution_count": 123,
      "outputs": [
        {
          "output_type": "execute_result",
          "data": {
            "text/plain": [
              "<keras.callbacks.History at 0x7f1b2af67250>"
            ]
          },
          "metadata": {},
          "execution_count": 123
        }
      ]
    },
    {
      "cell_type": "code",
      "source": [
        "W1_layers = get_weights(model)\n",
        "b1_layers = get_biases(model)"
      ],
      "metadata": {
        "id": "dwfQtFJsSQFb"
      },
      "execution_count": 124,
      "outputs": []
    },
    {
      "cell_type": "code",
      "source": [
        "plt.figure(figsize=(8,8))\n",
        "for n in range(3):\n",
        "  delta_1 = W1_layers[n] - W0_layers[n]\n",
        "  print('Layer'+'str(n)+:bias variation:', np.linalg.norm(b1_layers[n]-b0_layers[n]))\n",
        "  ax = plt.subplot(1, 3, n+1)\n",
        "  plt.imshow(delta_1)\n",
        "  plt.title('Layer'+str(n))\n",
        "  plt.axis('off')\n",
        "\n",
        "plt.colorbar()\n",
        "plt.suptitle('Weight matrices variation')  "
      ],
      "metadata": {
        "colab": {
          "base_uri": "https://localhost:8080/",
          "height": 573
        },
        "id": "jc4RYpmJVhh9",
        "outputId": "6e9fff38-7e6c-40fa-dae6-45e1b859a2be"
      },
      "execution_count": 125,
      "outputs": [
        {
          "output_type": "stream",
          "name": "stdout",
          "text": [
            "Layerstr(n)+:bias variation: 0.23956418\n",
            "Layerstr(n)+:bias variation: 0.2061119\n",
            "Layerstr(n)+:bias variation: 0.3088672\n"
          ]
        },
        {
          "output_type": "execute_result",
          "data": {
            "text/plain": [
              "Text(0.5, 0.98, 'Weight matrices variation')"
            ]
          },
          "metadata": {},
          "execution_count": 125
        },
        {
          "output_type": "display_data",
          "data": {
            "image/png": "[encoded data removed]",
            "text/plain": [
              "<Figure size 576x576 with 4 Axes>"
            ]
          },
          "metadata": {
            "needs_background": "light"
          }
        }
      ]
    },
    {
      "cell_type": "code",
      "source": [
        "n_trainable_variables = len(model.trainable_variables)\n",
        "n_non_trainable_variables = len(model.non_trainable_variables)"
      ],
      "metadata": {
        "id": "1y00viQKapka"
      },
      "execution_count": 126,
      "outputs": []
    },
    {
      "cell_type": "code",
      "source": [
        "model = Sequential([\n",
        "                    layers.Dense(4 , input_shape=(4,), activation='relu', kernel_initializer='random_uniform',\n",
        "                                 bias_initializer='ones', trainable=False),\n",
        "                    layers.Dense(2, activation='relu', kernel_initializer='lecun_normal', bias_initializer='ones'),\n",
        "                    layers.Dense(4, activation='softmax')\n",
        "\n",
        "])"
      ],
      "metadata": {
        "id": "TXENsc78a8U3"
      },
      "execution_count": 127,
      "outputs": []
    },
    {
      "cell_type": "code",
      "source": [
        "n_trainable_variables = len(model.trainable_variables)\n",
        "n_non_trainable_variables = len(model.non_trainable_variables)\n",
        "\n",
        "print(n_trainable_variables, n_non_trainable_variables)"
      ],
      "metadata": {
        "colab": {
          "base_uri": "https://localhost:8080/"
        },
        "id": "LCxlNBYubLKP",
        "outputId": "aa13a31e-ca52-4046-ad94-604ce0ffce9a"
      },
      "execution_count": 128,
      "outputs": [
        {
          "output_type": "stream",
          "name": "stdout",
          "text": [
            "4 2\n"
          ]
        }
      ]
    },
    {
      "cell_type": "code",
      "source": [
        "W0_layers = get_weights(model)\n",
        "b0_layers = get_biases(model)"
      ],
      "metadata": {
        "id": "3B7wkAJTeAOS"
      },
      "execution_count": 129,
      "outputs": []
    },
    {
      "cell_type": "code",
      "source": [
        "model.compile(optimizer='adam',\n",
        "              loss='mse',\n",
        "              metrics=['acc'])\n",
        "\n",
        "model.fit(X_train, y_train, epochs=50, verbose=False);"
      ],
      "metadata": {
        "id": "MbfNy77JeM7_"
      },
      "execution_count": 130,
      "outputs": []
    },
    {
      "cell_type": "code",
      "source": [
        "W1_layers = get_weights(model)\n",
        "b1_layers = get_biases(model)"
      ],
      "metadata": {
        "id": "7gl_PQfZfXFf"
      },
      "execution_count": 131,
      "outputs": []
    },
    {
      "cell_type": "code",
      "source": [
        "plot_delta_weights(W0_layers, W1_layers, b0_layers, b1_layers)"
      ],
      "metadata": {
        "colab": {
          "base_uri": "https://localhost:8080/",
          "height": 555
        },
        "id": "1l7Oiz9rfje3",
        "outputId": "54421dc2-fe18-42dc-a6a5-96898fa8cb2b"
      },
      "execution_count": 132,
      "outputs": [
        {
          "output_type": "stream",
          "name": "stdout",
          "text": [
            "Layerstr(n)+:bias variation: 0.0\n",
            "Layerstr(n)+:bias variation: 0.21325046\n",
            "Layerstr(n)+:bias variation: 0.36573035\n"
          ]
        },
        {
          "output_type": "display_data",
          "data": {
            "image/png": "[encoded data removed]",
            "text/plain": [
              "<Figure size 576x576 with 4 Axes>"
            ]
          },
          "metadata": {
            "needs_background": "light"
          }
        }
      ]
    },
    {
      "cell_type": "code",
      "source": [
        "model.layers[1].trainable = False\n",
        "print('\\n After freezing:\\n\\t Number of trainable variables:', len(model.trainable_variables),\n",
        "      '\\n\\t Number of non trainable variables:', len(model.non_trainable_variables))"
      ],
      "metadata": {
        "colab": {
          "base_uri": "https://localhost:8080/"
        },
        "id": "y1lPVBSlgQ5I",
        "outputId": "8646c848-eb6f-4afa-92ca-1e220f5d3367"
      },
      "execution_count": 133,
      "outputs": [
        {
          "output_type": "stream",
          "name": "stdout",
          "text": [
            "\n",
            " After freezing:\n",
            "\t Number of trainable variables: 2 \n",
            "\t Number of non trainable variables: 4\n"
          ]
        }
      ]
    },
    {
      "cell_type": "code",
      "source": [
        "model.compile(optimizer='adam',\n",
        "              loss='mse',\n",
        "              metrics=['acc'])\n",
        "\n",
        "model.fit(X_train, y_train, epochs=50, verbose=False)"
      ],
      "metadata": {
        "colab": {
          "base_uri": "https://localhost:8080/"
        },
        "id": "84JRPyAEg-Lr",
        "outputId": "6198ab59-941e-4344-e14e-16b40b87f48e"
      },
      "execution_count": 134,
      "outputs": [
        {
          "output_type": "execute_result",
          "data": {
            "text/plain": [
              "<keras.callbacks.History at 0x7f1b2a2ac950>"
            ]
          },
          "metadata": {},
          "execution_count": 134
        }
      ]
    },
    {
      "cell_type": "code",
      "source": [
        "W2_layers = get_weights(model)\n",
        "b2_layers = get_biases(model)"
      ],
      "metadata": {
        "id": "Lqp_vDAWhKSy"
      },
      "execution_count": 141,
      "outputs": []
    },
    {
      "cell_type": "code",
      "source": [
        "plot_delta_weights(W1_layers, W2_layers, b1_layers, b2_layers)"
      ],
      "metadata": {
        "colab": {
          "base_uri": "https://localhost:8080/",
          "height": 555
        },
        "id": "pmMuzF7khWgQ",
        "outputId": "3fa95fbd-eb21-4c1e-96fd-fa743079a32c"
      },
      "execution_count": 142,
      "outputs": [
        {
          "output_type": "stream",
          "name": "stdout",
          "text": [
            "Layerstr(n)+:bias variation: 0.0\n",
            "Layerstr(n)+:bias variation: 0.0\n",
            "Layerstr(n)+:bias variation: 0.3181749\n"
          ]
        },
        {
          "output_type": "display_data",
          "data": {
            "image/png": "[encoded data removed]",
            "text/plain": [
              "<Figure size 576x576 with 4 Axes>"
            ]
          },
          "metadata": {
            "needs_background": "light"
          }
        }
      ]
    }
  ]
}