{
  "nbformat": 4,
  "nbformat_minor": 0,
  "metadata": {
    "colab": {
      "name": "Coursera-2-week-1-variables+.ipynb",
      "provenance": [],
      "authorship_tag": "ABX9TyNALWoIqdMRyw+w13RTJ5WS",
      "include_colab_link": true
    },
    "kernelspec": {
      "name": "python3",
      "display_name": "Python 3"
    },
    "language_info": {
      "name": "python"
    }
  },
  "cells": [
    {
      "cell_type": "markdown",
      "metadata": {
        "id": "view-in-github",
        "colab_type": "text"
      },
      "source": [
        "<a href=\"https://colab.research.google.com/github/RoshanKumar854/ML-Projects/blob/main/Coursera_2_week_1_variables%2B.ipynb\" target=\"_parent\"><img src=\"https://colab.research.google.com/assets/colab-badge.svg\" alt=\"Open In Colab\"/></a>"
      ]
    },
    {
      "cell_type": "code",
      "execution_count": 1,
      "metadata": {
        "id": "GWT1UNy1BJuO"
      },
      "outputs": [],
      "source": [
        "import numpy as np\n",
        "import tensorflow as tf"
      ]
    },
    {
      "cell_type": "code",
      "source": [
        "strings = tf.Variable(['Hello world'], tf.string)\n",
        "floats = tf.Variable([3.14159, 2.71828], tf.float64)\n",
        "ints = tf.Variable([1, 2, 3], tf.int32)\n",
        "complexs = tf.Variable([25.9 - 7.39j], 1.23-4.91j, tf.complex128)"
      ],
      "metadata": {
        "id": "AfeNlbEWQXZT"
      },
      "execution_count": 2,
      "outputs": []
    },
    {
      "cell_type": "code",
      "source": [
        "tf.Variable(tf.constant(4.2, shape=(3, 3)))"
      ],
      "metadata": {
        "colab": {
          "base_uri": "https://localhost:8080/"
        },
        "id": "6zf1dTWGSvyS",
        "outputId": "0fd4f07f-0b76-47f9-d134-ec6eb0c97d11"
      },
      "execution_count": 3,
      "outputs": [
        {
          "output_type": "execute_result",
          "data": {
            "text/plain": [
              "<tf.Variable 'Variable:0' shape=(3, 3) dtype=float32, numpy=\n",
              "array([[4.2, 4.2, 4.2],\n",
              "       [4.2, 4.2, 4.2],\n",
              "       [4.2, 4.2, 4.2]], dtype=float32)>"
            ]
          },
          "metadata": {},
          "execution_count": 3
        }
      ]
    },
    {
      "cell_type": "code",
      "source": [
        "v = tf.Variable(0.0)\n",
        "w = v+1\n",
        "\n",
        "print(type(w))"
      ],
      "metadata": {
        "colab": {
          "base_uri": "https://localhost:8080/"
        },
        "id": "_Y-clyD3RFR9",
        "outputId": "167cbde1-7ee8-4f5c-aff6-01edaad6b037"
      },
      "execution_count": 4,
      "outputs": [
        {
          "output_type": "stream",
          "name": "stdout",
          "text": [
            "<class 'tensorflow.python.framework.ops.EagerTensor'>\n"
          ]
        }
      ]
    },
    {
      "cell_type": "code",
      "source": [
        "v.assign_add(1)\n",
        "print(v)"
      ],
      "metadata": {
        "colab": {
          "base_uri": "https://localhost:8080/"
        },
        "id": "wCvQhaaiTn8y",
        "outputId": "fd5b7052-d03d-4f0c-bf4a-c0d899dcc384"
      },
      "execution_count": 5,
      "outputs": [
        {
          "output_type": "stream",
          "name": "stdout",
          "text": [
            "<tf.Variable 'Variable:0' shape=() dtype=float32, numpy=1.0>\n"
          ]
        }
      ]
    },
    {
      "cell_type": "code",
      "source": [
        "v.assign_sub(1)\n",
        "print(v)"
      ],
      "metadata": {
        "colab": {
          "base_uri": "https://localhost:8080/"
        },
        "id": "hpGULJgfTxGO",
        "outputId": "8fa2083e-5323-43e1-e855-fe6971ab645d"
      },
      "execution_count": 6,
      "outputs": [
        {
          "output_type": "stream",
          "name": "stdout",
          "text": [
            "<tf.Variable 'Variable:0' shape=() dtype=float32, numpy=0.0>\n"
          ]
        }
      ]
    },
    {
      "cell_type": "code",
      "source": [
        "X = tf.constant([[1, 2, 3], [4, 5, 6],[7, 8, 9]])\n",
        "print(X)\n",
        "print('dtype:', X.dtype)\n",
        "print('shape:', X.shape)"
      ],
      "metadata": {
        "colab": {
          "base_uri": "https://localhost:8080/"
        },
        "id": "yY57Ysu3UFIu",
        "outputId": "b6d45b3a-953a-4fb5-b455-5d4739af4265"
      },
      "execution_count": 7,
      "outputs": [
        {
          "output_type": "stream",
          "name": "stdout",
          "text": [
            "tf.Tensor(\n",
            "[[1 2 3]\n",
            " [4 5 6]\n",
            " [7 8 9]], shape=(3, 3), dtype=int32)\n",
            "dtype: <dtype: 'int32'>\n",
            "shape: (3, 3)\n"
          ]
        }
      ]
    },
    {
      "cell_type": "code",
      "source": [
        "X.numpy()"
      ],
      "metadata": {
        "colab": {
          "base_uri": "https://localhost:8080/"
        },
        "id": "BZtIktbgUkU3",
        "outputId": "f7428f5a-a3b2-45a7-f801-b0a000f136d2"
      },
      "execution_count": 8,
      "outputs": [
        {
          "output_type": "execute_result",
          "data": {
            "text/plain": [
              "array([[1, 2, 3],\n",
              "       [4, 5, 6],\n",
              "       [7, 8, 9]], dtype=int32)"
            ]
          },
          "metadata": {},
          "execution_count": 8
        }
      ]
    },
    {
      "cell_type": "code",
      "source": [
        "X = tf.constant([[1, 2, 3], [4, 5, 6],[7, 8, 9]], dtype=tf.float32)\n",
        "print(X.dtype)"
      ],
      "metadata": {
        "colab": {
          "base_uri": "https://localhost:8080/"
        },
        "id": "NLGB7AcDUnbA",
        "outputId": "28f9fd6c-625d-414e-b670-89d20b1c8c08"
      },
      "execution_count": 9,
      "outputs": [
        {
          "output_type": "stream",
          "name": "stdout",
          "text": [
            "<dtype: 'float32'>\n"
          ]
        }
      ]
    },
    {
      "cell_type": "code",
      "source": [
        "coeffs = np.arange(16)\n",
        "print(coeffs)"
      ],
      "metadata": {
        "colab": {
          "base_uri": "https://localhost:8080/"
        },
        "id": "MUSdS2C5U1pm",
        "outputId": "66b58d36-ab67-49b1-a9e1-cc2eb4237664"
      },
      "execution_count": 10,
      "outputs": [
        {
          "output_type": "stream",
          "name": "stdout",
          "text": [
            "[ 0  1  2  3  4  5  6  7  8  9 10 11 12 13 14 15]\n"
          ]
        }
      ]
    },
    {
      "cell_type": "code",
      "source": [
        "shape1 = [8, 2]\n",
        "shape2 = [4, 4]\n",
        "shape3 = [2, 2, 2, 2]"
      ],
      "metadata": {
        "id": "Zy5PsN7gVDuk"
      },
      "execution_count": 11,
      "outputs": []
    },
    {
      "cell_type": "code",
      "source": [
        "a = tf.constant(coeffs, shape=shape1)\n",
        "print('\\n a:\\n', a)\n",
        "b = tf.constant(coeffs, shape=shape2)\n",
        "print('\\n b:\\n', b)\n",
        "c = tf.constant(coeffs, shape=shape3)\n",
        "print('\\n c:\\n', c)"
      ],
      "metadata": {
        "colab": {
          "base_uri": "https://localhost:8080/"
        },
        "id": "eOsTFApKVNm0",
        "outputId": "0eed3823-a5a5-4adc-9756-4fdb0e94a09d"
      },
      "execution_count": 12,
      "outputs": [
        {
          "output_type": "stream",
          "name": "stdout",
          "text": [
            "\n",
            " a:\n",
            " tf.Tensor(\n",
            "[[ 0  1]\n",
            " [ 2  3]\n",
            " [ 4  5]\n",
            " [ 6  7]\n",
            " [ 8  9]\n",
            " [10 11]\n",
            " [12 13]\n",
            " [14 15]], shape=(8, 2), dtype=int64)\n",
            "\n",
            " b:\n",
            " tf.Tensor(\n",
            "[[ 0  1  2  3]\n",
            " [ 4  5  6  7]\n",
            " [ 8  9 10 11]\n",
            " [12 13 14 15]], shape=(4, 4), dtype=int64)\n",
            "\n",
            " c:\n",
            " tf.Tensor(\n",
            "[[[[ 0  1]\n",
            "   [ 2  3]]\n",
            "\n",
            "  [[ 4  5]\n",
            "   [ 6  7]]]\n",
            "\n",
            "\n",
            " [[[ 8  9]\n",
            "   [10 11]]\n",
            "\n",
            "  [[12 13]\n",
            "   [14 15]]]], shape=(2, 2, 2, 2), dtype=int64)\n"
          ]
        }
      ]
    },
    {
      "cell_type": "code",
      "source": [
        "t = tf.constant(np.arange(80), shape=[5, 2, 8])\n",
        "print(t)"
      ],
      "metadata": {
        "colab": {
          "base_uri": "https://localhost:8080/"
        },
        "id": "H8iBFAYuWqEq",
        "outputId": "af7dac1f-c956-43ad-e246-c03c5b115b52"
      },
      "execution_count": 13,
      "outputs": [
        {
          "output_type": "stream",
          "name": "stdout",
          "text": [
            "tf.Tensor(\n",
            "[[[ 0  1  2  3  4  5  6  7]\n",
            "  [ 8  9 10 11 12 13 14 15]]\n",
            "\n",
            " [[16 17 18 19 20 21 22 23]\n",
            "  [24 25 26 27 28 29 30 31]]\n",
            "\n",
            " [[32 33 34 35 36 37 38 39]\n",
            "  [40 41 42 43 44 45 46 47]]\n",
            "\n",
            " [[48 49 50 51 52 53 54 55]\n",
            "  [56 57 58 59 60 61 62 63]]\n",
            "\n",
            " [[64 65 66 67 68 69 70 71]\n",
            "  [72 73 74 75 76 77 78 79]]], shape=(5, 2, 8), dtype=int64)\n"
          ]
        }
      ]
    },
    {
      "cell_type": "code",
      "source": [
        "rank = tf.rank(t)\n",
        "print('rank:',rank)"
      ],
      "metadata": {
        "colab": {
          "base_uri": "https://localhost:8080/"
        },
        "id": "9cpb1vhPW3bs",
        "outputId": "3eb94ddb-e7b1-4816-ddcc-56b4ae627207"
      },
      "execution_count": 14,
      "outputs": [
        {
          "output_type": "stream",
          "name": "stdout",
          "text": [
            "rank: tf.Tensor(3, shape=(), dtype=int32)\n"
          ]
        }
      ]
    },
    {
      "cell_type": "code",
      "source": [
        "t2 = tf.reshape(t, [8,10])\n"
      ],
      "metadata": {
        "id": "q2HRzJzsU6EH"
      },
      "execution_count": 15,
      "outputs": []
    },
    {
      "cell_type": "code",
      "source": [
        "ones = tf.ones(shape=(2,3))\n",
        "zeros = tf.zeros(shape=(2,4))\n",
        "eye = tf.eye(3)\n",
        "tensor7 = tf.constant(7.0, shape=[2, 2])\n",
        "\n",
        "print('\\n ones:\\n', ones)\n",
        "print('\\n zeros:\\n', zeros)\n",
        "print('\\n eye:\\n', eye)\n",
        "print('\\n tensor7:\\n', tensor7)"
      ],
      "metadata": {
        "colab": {
          "base_uri": "https://localhost:8080/"
        },
        "id": "xRXM1GcBXpg4",
        "outputId": "4248df2e-9623-4e4c-cb28-151ba85a23b8"
      },
      "execution_count": 16,
      "outputs": [
        {
          "output_type": "stream",
          "name": "stdout",
          "text": [
            "\n",
            " ones:\n",
            " tf.Tensor(\n",
            "[[1. 1. 1.]\n",
            " [1. 1. 1.]], shape=(2, 3), dtype=float32)\n",
            "\n",
            " zeros:\n",
            " tf.Tensor(\n",
            "[[0. 0. 0. 0.]\n",
            " [0. 0. 0. 0.]], shape=(2, 4), dtype=float32)\n",
            "\n",
            " eye:\n",
            " tf.Tensor(\n",
            "[[1. 0. 0.]\n",
            " [0. 1. 0.]\n",
            " [0. 0. 1.]], shape=(3, 3), dtype=float32)\n",
            "\n",
            " tensor7:\n",
            " tf.Tensor(\n",
            "[[7. 7.]\n",
            " [7. 7.]], shape=(2, 2), dtype=float32)\n"
          ]
        }
      ]
    },
    {
      "cell_type": "code",
      "source": [
        "t1 = tf.ones(shape=(2, 2))\n",
        "t2 = tf.zeros(shape=(2, 2))"
      ],
      "metadata": {
        "id": "fyg-GY0sUtgk"
      },
      "execution_count": 17,
      "outputs": []
    },
    {
      "cell_type": "code",
      "source": [
        "concat0 = tf.concat([t1, t2], 0)\n",
        "concat1 = tf.concat([t1, t2], 1)\n",
        "\n"
      ],
      "metadata": {
        "id": "mDfCXq-KY0Tn"
      },
      "execution_count": 18,
      "outputs": []
    },
    {
      "cell_type": "code",
      "source": [
        "print(concat0)\n",
        "print(concat1)"
      ],
      "metadata": {
        "colab": {
          "base_uri": "https://localhost:8080/"
        },
        "id": "UxKmFZEiZDXl",
        "outputId": "13949f54-d4b7-4bd1-cb5e-6ede82932d9b"
      },
      "execution_count": 19,
      "outputs": [
        {
          "output_type": "stream",
          "name": "stdout",
          "text": [
            "tf.Tensor(\n",
            "[[1. 1.]\n",
            " [1. 1.]\n",
            " [0. 0.]\n",
            " [0. 0.]], shape=(4, 2), dtype=float32)\n",
            "tf.Tensor(\n",
            "[[1. 1. 0. 0.]\n",
            " [1. 1. 0. 0.]], shape=(2, 4), dtype=float32)\n"
          ]
        }
      ]
    },
    {
      "cell_type": "code",
      "source": [
        "t = tf.constant(np.arange(24), shape=(3, 2, 4))\n",
        "print('t shape:', t.shape)"
      ],
      "metadata": {
        "colab": {
          "base_uri": "https://localhost:8080/"
        },
        "id": "wRGINt0CZPU3",
        "outputId": "63050c54-10ea-4048-dd90-352f3afc43c4"
      },
      "execution_count": 20,
      "outputs": [
        {
          "output_type": "stream",
          "name": "stdout",
          "text": [
            "t shape: (3, 2, 4)\n"
          ]
        }
      ]
    },
    {
      "cell_type": "code",
      "source": [
        "t1 = tf.expand_dims(t, 0)\n",
        "t2 = tf.expand_dims(t, 1)\n",
        "t3 = tf.expand_dims(t, 3)\n",
        "\n",
        "print('after expanding dims:')\n",
        "print('t1 shape:', t1.shape)\n",
        "print('t2 shape:', t2.shape)\n",
        "print('t3 shape:', t3.shape)"
      ],
      "metadata": {
        "colab": {
          "base_uri": "https://localhost:8080/"
        },
        "id": "p-TR14PkTrHz",
        "outputId": "1a8fc1c0-584a-4c08-def0-5b36372bfe04"
      },
      "execution_count": 21,
      "outputs": [
        {
          "output_type": "stream",
          "name": "stdout",
          "text": [
            "after expanding dims:\n",
            "t1 shape: (1, 3, 2, 4)\n",
            "t2 shape: (3, 1, 2, 4)\n",
            "t3 shape: (3, 2, 4, 1)\n"
          ]
        }
      ]
    },
    {
      "cell_type": "code",
      "source": [
        "X = tf.constant([1, 2, 3, 4, 5, 6, 7])\n",
        "print(X[1:4])"
      ],
      "metadata": {
        "id": "PXDc5Erzai3l",
        "colab": {
          "base_uri": "https://localhost:8080/"
        },
        "outputId": "2785251f-150c-43f9-def0-1cccffb78ae7"
      },
      "execution_count": 29,
      "outputs": [
        {
          "output_type": "stream",
          "name": "stdout",
          "text": [
            "tf.Tensor([2 3 4], shape=(3,), dtype=int32)\n"
          ]
        }
      ]
    },
    {
      "cell_type": "code",
      "source": [
        "c = tf.constant([[1.0, 2.0], [3.0, 4.0]])\n",
        "d = tf.constant([[1.0, 1.0], [0.0, 1.0]])"
      ],
      "metadata": {
        "id": "vmEda1a_hhya"
      },
      "execution_count": 30,
      "outputs": []
    },
    {
      "cell_type": "code",
      "source": [
        "matmul_cd = tf.matmul(c, d)\n",
        "print(matmul_cd)"
      ],
      "metadata": {
        "colab": {
          "base_uri": "https://localhost:8080/"
        },
        "id": "A41K75mkh510",
        "outputId": "30589032-7e70-473f-ac01-a3c3ee77dc55"
      },
      "execution_count": 33,
      "outputs": [
        {
          "output_type": "stream",
          "name": "stdout",
          "text": [
            "tf.Tensor(\n",
            "[[1. 3.]\n",
            " [3. 7.]], shape=(2, 2), dtype=float32)\n"
          ]
        }
      ]
    },
    {
      "cell_type": "code",
      "source": [
        "c_times_d = c*d\n",
        "c_plus_d = c+d\n",
        "c_minus_d = c-d"
      ],
      "metadata": {
        "id": "mALhCANviD2G"
      },
      "execution_count": 35,
      "outputs": []
    },
    {
      "cell_type": "code",
      "source": [
        "print(c_times_d)"
      ],
      "metadata": {
        "colab": {
          "base_uri": "https://localhost:8080/"
        },
        "id": "anfwU2UliAOU",
        "outputId": "9a6d795c-dfc8-4c28-cad6-e7a3fe79260d"
      },
      "execution_count": 36,
      "outputs": [
        {
          "output_type": "stream",
          "name": "stdout",
          "text": [
            "tf.Tensor(\n",
            "[[1. 2.]\n",
            " [0. 4.]], shape=(2, 2), dtype=float32)\n"
          ]
        }
      ]
    }
  ]
}