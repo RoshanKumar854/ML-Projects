{
  "nbformat": 4,
  "nbformat_minor": 0,
  "metadata": {
    "colab": {
      "name": "Heart.ipynb",
      "provenance": [],
      "authorship_tag": "ABX9TyOw8ZZZ1qYo1XwZnuzSi3g0",
      "include_colab_link": true
    },
    "kernelspec": {
      "name": "python3",
      "display_name": "Python 3"
    },
    "language_info": {
      "name": "python"
    }
  },
  "cells": [
    {
      "cell_type": "markdown",
      "metadata": {
        "id": "view-in-github",
        "colab_type": "text"
      },
      "source": [
        "<a href=\"https://colab.research.google.com/github/RoshanKumar854/ML-Projects/blob/main/Heart.ipynb\" target=\"_parent\"><img src=\"https://colab.research.google.com/assets/colab-badge.svg\" alt=\"Open In Colab\"/></a>"
      ]
    },
    {
      "cell_type": "code",
      "metadata": {
        "id": "mXsVQpuJ4Wwj"
      },
      "source": [
        "import numpy as np\n",
        "import pandas as pd\n",
        "import pandas as pd\n",
        "import matplotlib.pyplot as plt\n",
        "import seaborn as sns"
      ],
      "execution_count": 1,
      "outputs": []
    },
    {
      "cell_type": "code",
      "metadata": {
        "id": "UYZnmaso4nJ4"
      },
      "source": [
        "df = pd.read_csv('heart.csv')"
      ],
      "execution_count": 6,
      "outputs": []
    },
    {
      "cell_type": "code",
      "metadata": {
        "colab": {
          "base_uri": "https://localhost:8080/"
        },
        "id": "2A_5KqND5kpS",
        "outputId": "41c42ead-1e89-42a8-97f7-2ca3e2327a54"
      },
      "source": [
        "print(df)"
      ],
      "execution_count": 9,
      "outputs": [
        {
          "output_type": "stream",
          "name": "stdout",
          "text": [
            "     Age Sex ChestPainType  ...  Oldpeak  ST_Slope  HeartDisease\n",
            "0     40   M           ATA  ...      0.0        Up             0\n",
            "1     49   F           NAP  ...      1.0      Flat             1\n",
            "2     37   M           ATA  ...      0.0        Up             0\n",
            "3     48   F           ASY  ...      1.5      Flat             1\n",
            "4     54   M           NAP  ...      0.0        Up             0\n",
            "..   ...  ..           ...  ...      ...       ...           ...\n",
            "913   45   M            TA  ...      1.2      Flat             1\n",
            "914   68   M           ASY  ...      3.4      Flat             1\n",
            "915   57   M           ASY  ...      1.2      Flat             1\n",
            "916   57   F           ATA  ...      0.0      Flat             1\n",
            "917   38   M           NAP  ...      0.0        Up             0\n",
            "\n",
            "[918 rows x 12 columns]\n"
          ]
        }
      ]
    },
    {
      "cell_type": "code",
      "metadata": {
        "id": "-bhYR0s14rWE"
      },
      "source": [
        "y = df.iloc[:,-1:]\n",
        "x = df.iloc[:,:11]"
      ],
      "execution_count": 12,
      "outputs": []
    },
    {
      "cell_type": "code",
      "metadata": {
        "colab": {
          "base_uri": "https://localhost:8080/"
        },
        "id": "6von7p1o5bjk",
        "outputId": "eed82125-f12a-4ec3-c530-3a001aee485b"
      },
      "source": [
        "print(y)\n",
        "print(x)"
      ],
      "execution_count": 13,
      "outputs": [
        {
          "output_type": "stream",
          "name": "stdout",
          "text": [
            "     HeartDisease\n",
            "0               0\n",
            "1               1\n",
            "2               0\n",
            "3               1\n",
            "4               0\n",
            "..            ...\n",
            "913             1\n",
            "914             1\n",
            "915             1\n",
            "916             1\n",
            "917             0\n",
            "\n",
            "[918 rows x 1 columns]\n",
            "     Age Sex ChestPainType  RestingBP  ...  MaxHR  ExerciseAngina Oldpeak  ST_Slope\n",
            "0     40   M           ATA        140  ...    172               N     0.0        Up\n",
            "1     49   F           NAP        160  ...    156               N     1.0      Flat\n",
            "2     37   M           ATA        130  ...     98               N     0.0        Up\n",
            "3     48   F           ASY        138  ...    108               Y     1.5      Flat\n",
            "4     54   M           NAP        150  ...    122               N     0.0        Up\n",
            "..   ...  ..           ...        ...  ...    ...             ...     ...       ...\n",
            "913   45   M            TA        110  ...    132               N     1.2      Flat\n",
            "914   68   M           ASY        144  ...    141               N     3.4      Flat\n",
            "915   57   M           ASY        130  ...    115               Y     1.2      Flat\n",
            "916   57   F           ATA        130  ...    174               N     0.0      Flat\n",
            "917   38   M           NAP        138  ...    173               N     0.0        Up\n",
            "\n",
            "[918 rows x 11 columns]\n"
          ]
        }
      ]
    },
    {
      "cell_type": "code",
      "metadata": {
        "id": "ZcE2_7V254j8"
      },
      "source": [
        "x = pd.get_dummies(x)"
      ],
      "execution_count": 49,
      "outputs": []
    },
    {
      "cell_type": "code",
      "metadata": {
        "colab": {
          "base_uri": "https://localhost:8080/"
        },
        "id": "J1aJAe3Z6Uoc",
        "outputId": "3864e3cb-9a7b-4674-c5ec-50dc71fc075b"
      },
      "source": [
        "print(x)"
      ],
      "execution_count": 50,
      "outputs": [
        {
          "output_type": "stream",
          "name": "stdout",
          "text": [
            "     Age  RestingBP  Cholesterol  ...  ST_Slope_Down  ST_Slope_Flat  ST_Slope_Up\n",
            "0     40        140          289  ...              0              0            1\n",
            "1     49        160          180  ...              0              1            0\n",
            "2     37        130          283  ...              0              0            1\n",
            "3     48        138          214  ...              0              1            0\n",
            "4     54        150          195  ...              0              0            1\n",
            "..   ...        ...          ...  ...            ...            ...          ...\n",
            "913   45        110          264  ...              0              1            0\n",
            "914   68        144          193  ...              0              1            0\n",
            "915   57        130          131  ...              0              1            0\n",
            "916   57        130          236  ...              0              1            0\n",
            "917   38        138          175  ...              0              0            1\n",
            "\n",
            "[918 rows x 20 columns]\n"
          ]
        }
      ]
    },
    {
      "cell_type": "code",
      "metadata": {
        "id": "rUveubE08g8U"
      },
      "source": [
        "from sklearn.model_selection import train_test_split\n",
        "x_train, x_test, y_train, y_test = train_test_split(x, y, test_size = 0.2, random_state = 1)"
      ],
      "execution_count": 51,
      "outputs": []
    },
    {
      "cell_type": "code",
      "metadata": {
        "colab": {
          "base_uri": "https://localhost:8080/"
        },
        "id": "L1FsFIfB6ctE",
        "outputId": "cd1f8bad-7baa-4e9d-c8fa-9a142f45cb2d"
      },
      "source": [
        "from sklearn.preprocessing import StandardScaler\n",
        "sc = StandardScaler()\n",
        "x_train.iloc[:,:6] = sc.fit_transform(x_train.iloc[:,:6])\n",
        "x_test.iloc[:,:6] = sc.transform(x_test.iloc[:,:6])"
      ],
      "execution_count": 55,
      "outputs": [
        {
          "output_type": "stream",
          "name": "stderr",
          "text": [
            "/usr/local/lib/python3.7/dist-packages/pandas/core/indexing.py:1734: SettingWithCopyWarning: \n",
            "A value is trying to be set on a copy of a slice from a DataFrame.\n",
            "Try using .loc[row_indexer,col_indexer] = value instead\n",
            "\n",
            "See the caveats in the documentation: https://pandas.pydata.org/pandas-docs/stable/user_guide/indexing.html#returning-a-view-versus-a-copy\n",
            "  isetter(loc, value[:, i].tolist())\n",
            "/usr/local/lib/python3.7/dist-packages/pandas/core/indexing.py:1734: SettingWithCopyWarning: \n",
            "A value is trying to be set on a copy of a slice from a DataFrame.\n",
            "Try using .loc[row_indexer,col_indexer] = value instead\n",
            "\n",
            "See the caveats in the documentation: https://pandas.pydata.org/pandas-docs/stable/user_guide/indexing.html#returning-a-view-versus-a-copy\n",
            "  isetter(loc, value[:, i].tolist())\n"
          ]
        }
      ]
    },
    {
      "cell_type": "code",
      "metadata": {
        "colab": {
          "base_uri": "https://localhost:8080/"
        },
        "id": "v4Vd_TqA_RMl",
        "outputId": "4c8e9169-c08b-481f-89be-a2a659c08b50"
      },
      "source": [
        "from sklearn.linear_model import LogisticRegression\n",
        "classifier = LogisticRegression(random_state = 0)\n",
        "classifier.fit(x_train, y_train)"
      ],
      "execution_count": 56,
      "outputs": [
        {
          "output_type": "stream",
          "name": "stderr",
          "text": [
            "/usr/local/lib/python3.7/dist-packages/sklearn/utils/validation.py:760: DataConversionWarning: A column-vector y was passed when a 1d array was expected. Please change the shape of y to (n_samples, ), for example using ravel().\n",
            "  y = column_or_1d(y, warn=True)\n"
          ]
        },
        {
          "output_type": "execute_result",
          "data": {
            "text/plain": [
              "LogisticRegression(C=1.0, class_weight=None, dual=False, fit_intercept=True,\n",
              "                   intercept_scaling=1, l1_ratio=None, max_iter=100,\n",
              "                   multi_class='auto', n_jobs=None, penalty='l2',\n",
              "                   random_state=0, solver='lbfgs', tol=0.0001, verbose=0,\n",
              "                   warm_start=False)"
            ]
          },
          "metadata": {},
          "execution_count": 56
        }
      ]
    },
    {
      "cell_type": "code",
      "metadata": {
        "colab": {
          "base_uri": "https://localhost:8080/"
        },
        "id": "sNd7eZXw_VP0",
        "outputId": "dd5ba937-7bca-4008-f267-e50d75727222"
      },
      "source": [
        "y_pred = classifier.predict(x_test)\n",
        "print(y_pred)"
      ],
      "execution_count": 57,
      "outputs": [
        {
          "output_type": "stream",
          "name": "stdout",
          "text": [
            "[1 1 1 1 1 0 1 0 0 1 0 1 1 1 1 0 1 0 1 1 1 0 1 0 1 1 0 1 1 0 0 0 0 0 1 1 1\n",
            " 1 0 0 1 1 1 0 0 0 1 0 0 1 0 1 1 0 1 0 1 0 1 0 1 1 1 0 0 1 1 1 0 1 1 0 1 1\n",
            " 0 1 0 1 1 1 1 1 1 1 1 1 0 0 0 0 1 1 0 1 1 1 1 1 1 1 1 0 1 0 1 0 0 1 1 0 0\n",
            " 1 0 0 0 0 1 0 0 1 1 1 1 0 1 0 1 0 1 1 0 1 0 1 1 1 1 1 0 1 1 0 0 1 1 0 0 1\n",
            " 0 1 1 0 0 0 0 1 0 1 1 1 0 1 1 0 1 1 0 1 1 1 0 1 1 1 1 1 0 0 1 1 1 0 0 1]\n"
          ]
        }
      ]
    },
    {
      "cell_type": "code",
      "metadata": {
        "colab": {
          "base_uri": "https://localhost:8080/",
          "height": 282
        },
        "id": "nkXsAf1F_gPT",
        "outputId": "feca4941-e3de-4f3c-980c-f2328cf12e1b"
      },
      "source": [
        "plt.scatter(x_train.iloc[:,0],y_train,color='red')"
      ],
      "execution_count": 90,
      "outputs": [
        {
          "output_type": "execute_result",
          "data": {
            "text/plain": [
              "<matplotlib.collections.PathCollection at 0x7f7598d71090>"
            ]
          },
          "metadata": {},
          "execution_count": 90
        },
        {
          "output_type": "display_data",
          "data": {
            "image/png": "[encoded data removed]",
            "text/plain": [
              "<Figure size 432x288 with 1 Axes>"
            ]
          },
          "metadata": {
            "needs_background": "light"
          }
        }
      ]
    },
    {
      "cell_type": "code",
      "metadata": {
        "colab": {
          "base_uri": "https://localhost:8080/"
        },
        "id": "GDdYFw54DgCO",
        "outputId": "8b2910de-c278-4dbc-cae2-9aa30513eaec"
      },
      "source": [
        "from sklearn.metrics import confusion_matrix, accuracy_score\n",
        "cm = confusion_matrix(y_test, y_pred)\n",
        "print(cm)\n",
        "accuracy_score(y_test, y_pred)"
      ],
      "execution_count": 92,
      "outputs": [
        {
          "output_type": "stream",
          "name": "stdout",
          "text": [
            "[[ 64  10]\n",
            " [  9 101]]\n"
          ]
        },
        {
          "output_type": "execute_result",
          "data": {
            "text/plain": [
              "0.8967391304347826"
            ]
          },
          "metadata": {},
          "execution_count": 92
        }
      ]
    }
  ]
}