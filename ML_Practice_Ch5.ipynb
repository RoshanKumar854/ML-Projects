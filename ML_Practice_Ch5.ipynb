{
  "nbformat": 4,
  "nbformat_minor": 0,
  "metadata": {
    "colab": {
      "name": "ML Practice-Ch5.ipynb",
      "provenance": [],
      "authorship_tag": "ABX9TyPjo7Wu0fGWP8vw31kPDDge",
      "include_colab_link": true
    },
    "kernelspec": {
      "name": "python3",
      "display_name": "Python 3"
    },
    "language_info": {
      "name": "python"
    }
  },
  "cells": [
    {
      "cell_type": "markdown",
      "metadata": {
        "id": "view-in-github",
        "colab_type": "text"
      },
      "source": [
        "<a href=\"https://colab.research.google.com/github/RoshanKumar854/ML-Projects/blob/main/ML_Practice_Ch5.ipynb\" target=\"_parent\"><img src=\"https://colab.research.google.com/assets/colab-badge.svg\" alt=\"Open In Colab\"/></a>"
      ]
    },
    {
      "cell_type": "markdown",
      "source": [
        "#Linear SVM Classification"
      ],
      "metadata": {
        "id": "6V6A6rHQl7hX"
      }
    },
    {
      "cell_type": "code",
      "execution_count": 11,
      "metadata": {
        "id": "PXhdaTWmXm3c"
      },
      "outputs": [],
      "source": [
        "import numpy as np\n",
        "from sklearn import datasets\n",
        "from sklearn.pipeline import Pipeline\n",
        "from sklearn.preprocessing import StandardScaler\n",
        "from sklearn.svm import LinearSVC"
      ]
    },
    {
      "cell_type": "code",
      "source": [
        "iris = datasets.load_iris()\n",
        "X = iris['data'][:, (2,3)]\n",
        "y = (iris['target']==2).astype(np.float64)\n",
        "\n",
        "svm_clf = Pipeline([('scaler', StandardScaler()), ('linear_svc', LinearSVC(C=1, loss='hinge')),])\n",
        "svm_clf.fit(X,y)"
      ],
      "metadata": {
        "colab": {
          "base_uri": "https://localhost:8080/"
        },
        "id": "bdfRx1RhcEGW",
        "outputId": "4734ad35-23ab-4350-c89f-42ecfc7d90a0"
      },
      "execution_count": 12,
      "outputs": [
        {
          "output_type": "execute_result",
          "data": {
            "text/plain": [
              "Pipeline(steps=[('scaler', StandardScaler()),\n",
              "                ('linear_svc', LinearSVC(C=1, loss='hinge'))])"
            ]
          },
          "metadata": {},
          "execution_count": 12
        }
      ]
    },
    {
      "cell_type": "code",
      "source": [
        "svm_clf.predict([[5.5,1.7]])"
      ],
      "metadata": {
        "colab": {
          "base_uri": "https://localhost:8080/"
        },
        "id": "_8uJJvAZdM8e",
        "outputId": "5e574759-5f33-49ee-bb72-34ad901a598d"
      },
      "execution_count": 13,
      "outputs": [
        {
          "output_type": "execute_result",
          "data": {
            "text/plain": [
              "array([1.])"
            ]
          },
          "metadata": {},
          "execution_count": 13
        }
      ]
    },
    {
      "cell_type": "markdown",
      "source": [
        "#Nonlinear SVM Classification"
      ],
      "metadata": {
        "id": "Rhcz66rlmA_y"
      }
    },
    {
      "cell_type": "code",
      "source": [
        "from sklearn.datasets import make_moons\n",
        "from sklearn.pipeline import Pipeline\n",
        "from sklearn.preprocessing import PolynomialFeatures\n",
        "\n",
        "X, y = make_moons(n_samples=100, noise=0.15)\n",
        "polynomial_svm_clf = Pipeline([('poly_features', PolynomialFeatures(degree=3)),('scaler', StandardScaler()),('svm_clf', LinearSVC(C=10, loss='hinge'))])"
      ],
      "metadata": {
        "id": "uzgUFdN1mF8P"
      },
      "execution_count": 14,
      "outputs": []
    },
    {
      "cell_type": "code",
      "source": [
        "polynomial_svm_clf.fit(X,y)"
      ],
      "metadata": {
        "colab": {
          "base_uri": "https://localhost:8080/"
        },
        "id": "wdgbce-snNSc",
        "outputId": "3e88c422-2eb3-49d4-fd76-b89fc3f42189"
      },
      "execution_count": 15,
      "outputs": [
        {
          "output_type": "execute_result",
          "data": {
            "text/plain": [
              "Pipeline(steps=[('poly_features', PolynomialFeatures(degree=3)),\n",
              "                ('scaler', StandardScaler()),\n",
              "                ('svm_clf', LinearSVC(C=10, loss='hinge'))])"
            ]
          },
          "metadata": {},
          "execution_count": 15
        }
      ]
    },
    {
      "cell_type": "code",
      "source": [
        "from sklearn.svm import SVC\n",
        "poly_kernel_svm_clf = Pipeline([('scaler', StandardScaler()),('svm_clf',SVC(kernel='poly',degree=3,coef0=1,C=5))])\n",
        "poly_kernel_svm_clf.fit(X,y)"
      ],
      "metadata": {
        "colab": {
          "base_uri": "https://localhost:8080/"
        },
        "id": "luh_oZYrnSBc",
        "outputId": "4dfe9166-e0e1-46fa-cfb2-3688fcfd6634"
      },
      "execution_count": 16,
      "outputs": [
        {
          "output_type": "execute_result",
          "data": {
            "text/plain": [
              "Pipeline(steps=[('scaler', StandardScaler()),\n",
              "                ('svm_clf', SVC(C=5, coef0=1, kernel='poly'))])"
            ]
          },
          "metadata": {},
          "execution_count": 16
        }
      ]
    },
    {
      "cell_type": "markdown",
      "source": [
        "#Gaussian RBF Kernal"
      ],
      "metadata": {
        "id": "sSW2abiEeFHT"
      }
    },
    {
      "cell_type": "code",
      "source": [
        "rbf_kernel_svm_clf = Pipeline([('scaler', StandardScaler()),('svm_clf', SVC(kernel='rbf', gamma=5, C=0.001))])\n",
        "rbf_kernel_svm_clf.fit(X,y)"
      ],
      "metadata": {
        "colab": {
          "base_uri": "https://localhost:8080/"
        },
        "id": "enFHoaOznCsH",
        "outputId": "ff3ce88e-cb29-4bec-f384-a4704ceec46f"
      },
      "execution_count": 17,
      "outputs": [
        {
          "output_type": "execute_result",
          "data": {
            "text/plain": [
              "Pipeline(steps=[('scaler', StandardScaler()),\n",
              "                ('svm_clf', SVC(C=0.001, gamma=5))])"
            ]
          },
          "metadata": {},
          "execution_count": 17
        }
      ]
    },
    {
      "cell_type": "markdown",
      "source": [
        "#SVM Regression"
      ],
      "metadata": {
        "id": "Z06cAOBKtjeX"
      }
    },
    {
      "cell_type": "code",
      "source": [
        "from sklearn.svm import LinearSVR\n",
        "\n",
        "svm_reg = LinearSVR(epsilon=1.5)\n",
        "svm_reg.fit(X,y)"
      ],
      "metadata": {
        "colab": {
          "base_uri": "https://localhost:8080/"
        },
        "id": "w2PxWzn3tlt7",
        "outputId": "5a732f10-85d0-4ef0-86ba-efc4c9562288"
      },
      "execution_count": 18,
      "outputs": [
        {
          "output_type": "execute_result",
          "data": {
            "text/plain": [
              "LinearSVR(epsilon=1.5)"
            ]
          },
          "metadata": {},
          "execution_count": 18
        }
      ]
    },
    {
      "cell_type": "code",
      "source": [
        "from sklearn.svm import SVR\n",
        "\n",
        "svm_poly_reg = SVR(kernel='poly', degree=2, C=100, epsilon=0.1)\n",
        "svm_poly_reg.fit(X,y)"
      ],
      "metadata": {
        "colab": {
          "base_uri": "https://localhost:8080/"
        },
        "id": "sUBahr4ht9RX",
        "outputId": "4ee9ac32-a669-467c-cc85-fe998e44b795"
      },
      "execution_count": 19,
      "outputs": [
        {
          "output_type": "execute_result",
          "data": {
            "text/plain": [
              "SVR(C=100, degree=2, kernel='poly')"
            ]
          },
          "metadata": {},
          "execution_count": 19
        }
      ]
    }
  ]
}