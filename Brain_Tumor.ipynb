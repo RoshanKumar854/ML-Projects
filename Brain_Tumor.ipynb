{
  "nbformat": 4,
  "nbformat_minor": 0,
  "metadata": {
    "colab": {
      "name": "Brain Tumor.ipynb",
      "provenance": [],
      "authorship_tag": "ABX9TyP+yZHg9oEtH3Ntdf5RhwDo",
      "include_colab_link": true
    },
    "kernelspec": {
      "name": "python3",
      "display_name": "Python 3"
    },
    "language_info": {
      "name": "python"
    }
  },
  "cells": [
    {
      "cell_type": "markdown",
      "metadata": {
        "id": "view-in-github",
        "colab_type": "text"
      },
      "source": [
        "<a href=\"https://colab.research.google.com/github/RoshanKumar854/ML-Projects/blob/main/Brain_Tumor.ipynb\" target=\"_parent\"><img src=\"https://colab.research.google.com/assets/colab-badge.svg\" alt=\"Open In Colab\"/></a>"
      ]
    },
    {
      "cell_type": "markdown",
      "metadata": {
        "id": "2tiYW00zZYET"
      },
      "source": [
        "#Importing Required Libraries"
      ]
    },
    {
      "cell_type": "code",
      "metadata": {
        "id": "yHbWy0RGH104"
      },
      "source": [
        "import numpy as np\n",
        "import pandas as pd\n",
        "import seaborn as sns\n",
        "import matplotlib.pyplot as plt"
      ],
      "execution_count": 4,
      "outputs": []
    },
    {
      "cell_type": "markdown",
      "metadata": {
        "id": "uggRUUIBZggn"
      },
      "source": [
        "#Importing and Printing Data"
      ]
    },
    {
      "cell_type": "code",
      "metadata": {
        "id": "cKRKgq1sIeYm"
      },
      "source": [
        "df = pd.read_csv('Brain Tumor.csv')"
      ],
      "execution_count": 6,
      "outputs": []
    },
    {
      "cell_type": "code",
      "metadata": {
        "colab": {
          "base_uri": "https://localhost:8080/"
        },
        "id": "Jv95A0V0IrR7",
        "outputId": "e70b85c7-6662-4412-d02d-e95fa1a8d4b8"
      },
      "source": [
        "print(df)"
      ],
      "execution_count": 8,
      "outputs": [
        {
          "output_type": "stream",
          "name": "stdout",
          "text": [
            "          Image  Class       Mean  ...  Dissimilarity  Correlation     Coarseness\n",
            "0        Image1      0   6.535339  ...       4.473346     0.981939  7.458341e-155\n",
            "1        Image2      0   8.749969  ...       3.220072     0.988834  7.458341e-155\n",
            "2        Image3      1   7.341095  ...       5.981800     0.978014  7.458341e-155\n",
            "3        Image4      1   5.958145  ...       7.700919     0.964189  7.458341e-155\n",
            "4        Image5      0   7.315231  ...       6.834689     0.972789  7.458341e-155\n",
            "...         ...    ...        ...  ...            ...          ...            ...\n",
            "3757  Image3758      0  21.234512  ...       5.211739     0.950972  7.458341e-155\n",
            "3758  Image3759      0  20.435349  ...       5.083126     0.952749  7.458341e-155\n",
            "3759  Image3760      0  18.011520  ...       5.103700     0.952181  7.458341e-155\n",
            "3760  Image3761      0  13.330429  ...       6.439784     0.940898  7.458341e-155\n",
            "3761  Image3762      0   6.110138  ...       6.787329     0.938731  7.458341e-155\n",
            "\n",
            "[3762 rows x 15 columns]\n"
          ]
        }
      ]
    },
    {
      "cell_type": "code",
      "metadata": {
        "colab": {
          "base_uri": "https://localhost:8080/"
        },
        "id": "u0CAgywTIvsm",
        "outputId": "25735755-67e5-4b6a-df5d-5d51f769ea25"
      },
      "source": [
        "df.info()"
      ],
      "execution_count": 9,
      "outputs": [
        {
          "output_type": "stream",
          "name": "stdout",
          "text": [
            "<class 'pandas.core.frame.DataFrame'>\n",
            "RangeIndex: 3762 entries, 0 to 3761\n",
            "Data columns (total 15 columns):\n",
            " #   Column              Non-Null Count  Dtype  \n",
            "---  ------              --------------  -----  \n",
            " 0   Image               3762 non-null   object \n",
            " 1   Class               3762 non-null   int64  \n",
            " 2   Mean                3762 non-null   float64\n",
            " 3   Variance            3762 non-null   float64\n",
            " 4   Standard Deviation  3762 non-null   float64\n",
            " 5   Entropy             3762 non-null   float64\n",
            " 6   Skewness            3762 non-null   float64\n",
            " 7   Kurtosis            3762 non-null   float64\n",
            " 8   Contrast            3762 non-null   float64\n",
            " 9   Energy              3762 non-null   float64\n",
            " 10  ASM                 3762 non-null   float64\n",
            " 11  Homogeneity         3762 non-null   float64\n",
            " 12  Dissimilarity       3762 non-null   float64\n",
            " 13  Correlation         3762 non-null   float64\n",
            " 14  Coarseness          3762 non-null   float64\n",
            "dtypes: float64(13), int64(1), object(1)\n",
            "memory usage: 441.0+ KB\n"
          ]
        }
      ]
    },
    {
      "cell_type": "markdown",
      "metadata": {
        "id": "AloM30NVZprz"
      },
      "source": [
        "#Correlation of Data"
      ]
    },
    {
      "cell_type": "code",
      "metadata": {
        "id": "5rTEdAAsI9HD"
      },
      "source": [
        "x = df.corr()"
      ],
      "execution_count": 12,
      "outputs": []
    },
    {
      "cell_type": "code",
      "metadata": {
        "colab": {
          "base_uri": "https://localhost:8080/",
          "height": 17
        },
        "id": "uCLa38QvJxwF",
        "outputId": "981c3930-2c6c-409f-c14b-678525178ec3"
      },
      "source": [
        "from google.colab import files\n",
        "import pandas as pd\n",
        "x.to_csv('correlation.csv')\n",
        "files.download('correlation.csv')"
      ],
      "execution_count": 14,
      "outputs": [
        {
          "output_type": "display_data",
          "data": {
            "application/javascript": [
              "\n",
              "    async function download(id, filename, size) {\n",
              "      if (!google.colab.kernel.accessAllowed) {\n",
              "        return;\n",
              "      }\n",
              "      const div = document.createElement('div');\n",
              "      const label = document.createElement('label');\n",
              "      label.textContent = `Downloading \"${filename}\": `;\n",
              "      div.appendChild(label);\n",
              "      const progress = document.createElement('progress');\n",
              "      progress.max = size;\n",
              "      div.appendChild(progress);\n",
              "      document.body.appendChild(div);\n",
              "\n",
              "      const buffers = [];\n",
              "      let downloaded = 0;\n",
              "\n",
              "      const channel = await google.colab.kernel.comms.open(id);\n",
              "      // Send a message to notify the kernel that we're ready.\n",
              "      channel.send({})\n",
              "\n",
              "      for await (const message of channel.messages) {\n",
              "        // Send a message to notify the kernel that we're ready.\n",
              "        channel.send({})\n",
              "        if (message.buffers) {\n",
              "          for (const buffer of message.buffers) {\n",
              "            buffers.push(buffer);\n",
              "            downloaded += buffer.byteLength;\n",
              "            progress.value = downloaded;\n",
              "          }\n",
              "        }\n",
              "      }\n",
              "      const blob = new Blob(buffers, {type: 'application/binary'});\n",
              "      const a = document.createElement('a');\n",
              "      a.href = window.URL.createObjectURL(blob);\n",
              "      a.download = filename;\n",
              "      div.appendChild(a);\n",
              "      a.click();\n",
              "      div.remove();\n",
              "    }\n",
              "  "
            ],
            "text/plain": [
              "<IPython.core.display.Javascript object>"
            ]
          },
          "metadata": {}
        },
        {
          "output_type": "display_data",
          "data": {
            "application/javascript": [
              "download(\"download_da362fcd-db24-42f0-a561-8104bd121d46\", \"correlation.csv\", 3478)"
            ],
            "text/plain": [
              "<IPython.core.display.Javascript object>"
            ]
          },
          "metadata": {}
        }
      ]
    },
    {
      "cell_type": "markdown",
      "metadata": {
        "id": "F55uimgYZyfN"
      },
      "source": [
        "#Figuring out our Indepedent and Dependent Variables"
      ]
    },
    {
      "cell_type": "code",
      "metadata": {
        "id": "k3royAcXK_S7"
      },
      "source": [
        "y = df.iloc[:,1]\n",
        "x = df.iloc[:,2:]"
      ],
      "execution_count": 28,
      "outputs": []
    },
    {
      "cell_type": "code",
      "metadata": {
        "colab": {
          "base_uri": "https://localhost:8080/"
        },
        "id": "afyyhPn-MdJN",
        "outputId": "33f5d0a3-cc54-4ce3-eb02-d1b192afe0b7"
      },
      "source": [
        "print(y)"
      ],
      "execution_count": 29,
      "outputs": [
        {
          "output_type": "stream",
          "name": "stdout",
          "text": [
            "0       0\n",
            "1       0\n",
            "2       1\n",
            "3       1\n",
            "4       0\n",
            "       ..\n",
            "3757    0\n",
            "3758    0\n",
            "3759    0\n",
            "3760    0\n",
            "3761    0\n",
            "Name: Class, Length: 3762, dtype: int64\n"
          ]
        }
      ]
    },
    {
      "cell_type": "code",
      "metadata": {
        "colab": {
          "base_uri": "https://localhost:8080/"
        },
        "id": "q8fAp1r_MQVl",
        "outputId": "3534499f-c2ff-4a71-a9fc-9c971e476d67"
      },
      "source": [
        "print(x)"
      ],
      "execution_count": 24,
      "outputs": [
        {
          "output_type": "stream",
          "name": "stdout",
          "text": [
            "           Mean     Variance  ...  Correlation     Coarseness\n",
            "0      6.535339   619.587845  ...     0.981939  7.458341e-155\n",
            "1      8.749969   805.957634  ...     0.988834  7.458341e-155\n",
            "2      7.341095  1143.808219  ...     0.978014  7.458341e-155\n",
            "3      5.958145   959.711985  ...     0.964189  7.458341e-155\n",
            "4      7.315231   729.540579  ...     0.972789  7.458341e-155\n",
            "...         ...          ...  ...          ...            ...\n",
            "3757  21.234512  1208.850174  ...     0.950972  7.458341e-155\n",
            "3758  20.435349  1227.151440  ...     0.952749  7.458341e-155\n",
            "3759  18.011520  1151.582765  ...     0.952181  7.458341e-155\n",
            "3760  13.330429   945.732779  ...     0.940898  7.458341e-155\n",
            "3761   6.110138   480.884025  ...     0.938731  7.458341e-155\n",
            "\n",
            "[3762 rows x 13 columns]\n"
          ]
        }
      ]
    },
    {
      "cell_type": "markdown",
      "metadata": {
        "id": "Dtixl2DIZ_H3"
      },
      "source": [
        "#Training our Dataset"
      ]
    },
    {
      "cell_type": "code",
      "metadata": {
        "id": "7U4D9DhOPl0u"
      },
      "source": [
        "from sklearn.model_selection import train_test_split\n",
        "x_train, x_test, y_train, y_test = train_test_split(x, y, test_size = 0.33, random_state = 0)"
      ],
      "execution_count": 37,
      "outputs": []
    },
    {
      "cell_type": "markdown",
      "metadata": {
        "id": "-KbrxYCRaEcU"
      },
      "source": [
        "#Feature Scaling"
      ]
    },
    {
      "cell_type": "code",
      "metadata": {
        "id": "OteMyA3BSdTx"
      },
      "source": [
        "from sklearn.preprocessing import StandardScaler\n",
        "sc = StandardScaler()\n",
        "x_train = sc.fit_transform(x_train)\n",
        "x_test = sc.transform(x_test)"
      ],
      "execution_count": 39,
      "outputs": []
    },
    {
      "cell_type": "markdown",
      "metadata": {
        "id": "YZd7KqfUaHxa"
      },
      "source": [
        "#Applying Logistic Regression"
      ]
    },
    {
      "cell_type": "code",
      "metadata": {
        "colab": {
          "base_uri": "https://localhost:8080/"
        },
        "id": "bU-6pQ-CSwRz",
        "outputId": "ac506c82-8145-4885-8d25-f8d166c995b7"
      },
      "source": [
        "from sklearn.linear_model import LogisticRegression\n",
        "classifier = LogisticRegression(random_state = 0)\n",
        "classifier.fit(x_train, y_train)"
      ],
      "execution_count": 40,
      "outputs": [
        {
          "output_type": "execute_result",
          "data": {
            "text/plain": [
              "LogisticRegression(C=1.0, class_weight=None, dual=False, fit_intercept=True,\n",
              "                   intercept_scaling=1, l1_ratio=None, max_iter=100,\n",
              "                   multi_class='auto', n_jobs=None, penalty='l2',\n",
              "                   random_state=0, solver='lbfgs', tol=0.0001, verbose=0,\n",
              "                   warm_start=False)"
            ]
          },
          "metadata": {},
          "execution_count": 40
        }
      ]
    },
    {
      "cell_type": "code",
      "metadata": {
        "id": "Wnv8eDk5TL7o"
      },
      "source": [
        "y_pred = classifier.predict(x_test)"
      ],
      "execution_count": 42,
      "outputs": []
    },
    {
      "cell_type": "code",
      "metadata": {
        "colab": {
          "base_uri": "https://localhost:8080/"
        },
        "id": "5JfQ99D5TPur",
        "outputId": "ec233930-b9f3-4979-b746-4cd0e913693c"
      },
      "source": [
        "print(y_pred)"
      ],
      "execution_count": 45,
      "outputs": [
        {
          "output_type": "stream",
          "name": "stdout",
          "text": [
            "[1 0 0 ... 1 0 0]\n"
          ]
        }
      ]
    },
    {
      "cell_type": "markdown",
      "metadata": {
        "id": "SHxo0vkiaWZH"
      },
      "source": [
        "#Predicting Tumor using our own observation"
      ]
    },
    {
      "cell_type": "code",
      "metadata": {
        "colab": {
          "base_uri": "https://localhost:8080/"
        },
        "id": "JUsx0QrFTlMy",
        "outputId": "401b00c1-97d2-4ded-e4c0-c9281aae002e"
      },
      "source": [
        "print(classifier.predict(sc.transform([[6,600,24,.1,4,18,98,.30,.08,.5,5,.98,7.6]])))"
      ],
      "execution_count": 63,
      "outputs": [
        {
          "output_type": "stream",
          "name": "stdout",
          "text": [
            "[1]\n"
          ]
        }
      ]
    },
    {
      "cell_type": "markdown",
      "metadata": {
        "id": "nt_YQHwAafGr"
      },
      "source": [
        "#Building Our Confusion Matrix"
      ]
    },
    {
      "cell_type": "code",
      "metadata": {
        "colab": {
          "base_uri": "https://localhost:8080/"
        },
        "id": "16nXSPhZUBia",
        "outputId": "74d3c076-5735-4452-a615-fa106561c863"
      },
      "source": [
        "from sklearn.metrics import confusion_matrix, accuracy_score\n",
        "cm = confusion_matrix(y_test, y_pred)\n",
        "print(cm)\n",
        "accuracy_score(y_test, y_pred)"
      ],
      "execution_count": 47,
      "outputs": [
        {
          "output_type": "stream",
          "name": "stdout",
          "text": [
            "[[659   7]\n",
            " [ 15 561]]\n"
          ]
        },
        {
          "output_type": "execute_result",
          "data": {
            "text/plain": [
              "0.9822866344605475"
            ]
          },
          "metadata": {},
          "execution_count": 47
        }
      ]
    },
    {
      "cell_type": "markdown",
      "metadata": {
        "id": "nbTJMrcjarQm"
      },
      "source": [
        "#Precesion,Recall of our Model"
      ]
    },
    {
      "cell_type": "code",
      "metadata": {
        "id": "Dc1SiOHVUOqg"
      },
      "source": [
        "from sklearn.metrics import classification_report\n",
        "matrix = confusion_matrix(y_test,y_pred, labels=[1,0])\n",
        "\n",
        "# outcome values order in sklearn\n",
        "tp, fn, fp, tn = confusion_matrix(y_test,y_pred,labels=[1,0]).reshape(-1)\n",
        "\n",
        "# classification report for precision, recall f1-score and accuracy\n",
        "matrix = classification_report(y_test,y_pred,labels=[1,0])"
      ],
      "execution_count": 56,
      "outputs": []
    },
    {
      "cell_type": "code",
      "metadata": {
        "colab": {
          "base_uri": "https://localhost:8080/"
        },
        "id": "4F4azdNiWmYb",
        "outputId": "bd1b5bfc-224e-40bb-b5fc-24f0507ed9f5"
      },
      "source": [
        "print(matrix)"
      ],
      "execution_count": 57,
      "outputs": [
        {
          "output_type": "stream",
          "name": "stdout",
          "text": [
            "              precision    recall  f1-score   support\n",
            "\n",
            "           1       0.99      0.97      0.98       576\n",
            "           0       0.98      0.99      0.98       666\n",
            "\n",
            "    accuracy                           0.98      1242\n",
            "   macro avg       0.98      0.98      0.98      1242\n",
            "weighted avg       0.98      0.98      0.98      1242\n",
            "\n"
          ]
        }
      ]
    }
  ]
}