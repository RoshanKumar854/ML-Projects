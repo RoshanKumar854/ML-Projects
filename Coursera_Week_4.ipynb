{
  "nbformat": 4,
  "nbformat_minor": 0,
  "metadata": {
    "colab": {
      "name": "Coursera_Week_4.ipynb",
      "provenance": [],
      "include_colab_link": true
    },
    "kernelspec": {
      "name": "python3",
      "display_name": "Python 3"
    },
    "language_info": {
      "name": "python"
    }
  },
  "cells": [
    {
      "cell_type": "markdown",
      "metadata": {
        "id": "view-in-github",
        "colab_type": "text"
      },
      "source": [
        "<a href=\"https://colab.research.google.com/github/RoshanKumar854/ML-Projects/blob/main/Coursera_Week_4.ipynb\" target=\"_parent\"><img src=\"https://colab.research.google.com/assets/colab-badge.svg\" alt=\"Open In Colab\"/></a>"
      ]
    },
    {
      "cell_type": "markdown",
      "source": [
        "#Model subclassing"
      ],
      "metadata": {
        "id": "L7bOUCivU10R"
      }
    },
    {
      "cell_type": "code",
      "execution_count": null,
      "metadata": {
        "id": "4Pf9d-mCQtQ7"
      },
      "outputs": [],
      "source": [
        "import tensorflow as tf"
      ]
    },
    {
      "cell_type": "code",
      "source": [
        "from tensorflow.keras.models import Model\n",
        "from tensorflow.keras.layers import Dense, Dropout, Softmax, concatenate"
      ],
      "metadata": {
        "id": "1H7irGbOVLuC"
      },
      "execution_count": null,
      "outputs": []
    },
    {
      "cell_type": "code",
      "source": [
        "class MyModel(Model):\n",
        "\n",
        "  def __init__(self):\n",
        "    super(MyModel, self).__init__()\n",
        "    self.dense_1 = Dense(64, activation='relu')\n",
        "    self.dense_2 = Dense(10)\n",
        "    self.dense_3 = Dense(5)\n",
        "    self.softmax = Softmax()\n",
        "\n",
        "  def call(self, inputs):\n",
        "    X = self.dense_1(inputs)\n",
        "    y1 = self.dense_2(inputs)\n",
        "    y2 = self.dense_3(y1)\n",
        "    concat = concatenate([X, y2])\n",
        "    return self.softmax(concat)"
      ],
      "metadata": {
        "id": "QF0q-xJMVdUM"
      },
      "execution_count": null,
      "outputs": []
    },
    {
      "cell_type": "code",
      "source": [
        "model = MyModel()\n",
        "model(tf.random.uniform([1,10]))\n",
        "model.summary()"
      ],
      "metadata": {
        "colab": {
          "base_uri": "https://localhost:8080/"
        },
        "id": "2QI1IN7VzRn7",
        "outputId": "34fb9718-2116-4184-faa8-04b96816140f"
      },
      "execution_count": null,
      "outputs": [
        {
          "output_type": "stream",
          "name": "stdout",
          "text": [
            "Model: \"my_model_4\"\n",
            "_________________________________________________________________\n",
            " Layer (type)                Output Shape              Param #   \n",
            "=================================================================\n",
            " dense_6 (Dense)             multiple                  704       \n",
            "                                                                 \n",
            " dense_7 (Dense)             multiple                  110       \n",
            "                                                                 \n",
            " dense_8 (Dense)             multiple                  55        \n",
            "                                                                 \n",
            " softmax_4 (Softmax)         multiple                  0         \n",
            "                                                                 \n",
            "=================================================================\n",
            "Total params: 869\n",
            "Trainable params: 869\n",
            "Non-trainable params: 0\n",
            "_________________________________________________________________\n"
          ]
        }
      ]
    },
    {
      "cell_type": "markdown",
      "source": [
        "#Custom layers"
      ],
      "metadata": {
        "id": "_y-EkxbL8jiW"
      }
    },
    {
      "cell_type": "code",
      "source": [
        "from tensorflow.keras.models import Model\n",
        "from tensorflow.keras.layers import Layer, Softmax"
      ],
      "metadata": {
        "id": "Qei_Y6bHz0JI"
      },
      "execution_count": null,
      "outputs": []
    },
    {
      "cell_type": "code",
      "source": [
        "class MyLayer(Layer):\n",
        "  def __init__(self, units, input_dim):\n",
        "    super(MyLayer, self).__init__()\n",
        "    self.w = self.add_weight(shape=(input_dim, units),\n",
        "                             initializer = 'random_normal')\n",
        "    self.b = self.add_weight(shape=(units,),\n",
        "                             initializer ='zeros')\n",
        "\n",
        "  def call(self, inputs):\n",
        "    return tf.matmul(inputs, self.w)+self.b\n",
        "\n",
        "dense_layer = MyLayer(3,5)\n",
        "X = tf.ones((1,5)) \n",
        "print(dense_layer(X))\n",
        "print(dense_layer.weights)   \n"
      ],
      "metadata": {
        "colab": {
          "base_uri": "https://localhost:8080/"
        },
        "id": "FxtJLmzIIUHs",
        "outputId": "416b5742-eed0-4a90-b9c3-bb2c3ad9ccdd"
      },
      "execution_count": null,
      "outputs": [
        {
          "output_type": "stream",
          "name": "stdout",
          "text": [
            "tf.Tensor([[ 0.10130207 -0.16356622 -0.10080069]], shape=(1, 3), dtype=float32)\n",
            "[<tf.Variable 'Variable:0' shape=(5, 3) dtype=float32, numpy=\n",
            "array([[-0.00444444, -0.05754108,  0.00845039],\n",
            "       [ 0.0192987 ,  0.01991498, -0.02887417],\n",
            "       [ 0.01836175,  0.03628182,  0.02680319],\n",
            "       [ 0.05639002, -0.13585946, -0.08847172],\n",
            "       [ 0.01169603, -0.02636248, -0.01870839]], dtype=float32)>, <tf.Variable 'Variable:0' shape=(3,) dtype=float32, numpy=array([0., 0., 0.], dtype=float32)>]\n"
          ]
        }
      ]
    },
    {
      "cell_type": "code",
      "source": [
        "class MyLayer(Layer):\n",
        "  def __init__(self, units, input_dim):\n",
        "    super(MyLayer, self).__init__()\n",
        "    self.w = self.add_weight(shape=(input_dim, units),\n",
        "                             initializer = 'random_normal',\n",
        "                             trainable=False)\n",
        "    self.b = self.add_weight(shape=(units,),\n",
        "                             initializer ='zeros',\n",
        "                             trainable=False)\n",
        "\n",
        "  def call(self, inputs):\n",
        "    return tf.matmul(inputs, self.w)+self.b\n",
        "\n",
        "dense_layer = MyLayer(3,5)  \n"
      ],
      "metadata": {
        "id": "4DMW3wU7MPbJ"
      },
      "execution_count": null,
      "outputs": []
    },
    {
      "cell_type": "code",
      "source": [
        "print('trainable weights:', len(dense_layer.trainable_weights))\n",
        "print('non-trainable weights:', len(dense_layer.non_trainable_weights))"
      ],
      "metadata": {
        "colab": {
          "base_uri": "https://localhost:8080/"
        },
        "id": "NSOf6kWGhah5",
        "outputId": "1dde61d0-98fc-45d9-b090-8287b6dc5394"
      },
      "execution_count": null,
      "outputs": [
        {
          "output_type": "stream",
          "name": "stdout",
          "text": [
            "trainable weights: 0\n",
            "non-trainable weights: 2\n"
          ]
        }
      ]
    },
    {
      "cell_type": "code",
      "source": [
        "class MyLayerMean(Layer):\n",
        "  def __init__(self, units, input_dim):\n",
        "    super(MyLayerMean, self).__init__()\n",
        "    self.w = self.add_weight(shape=(input_dim, units),\n",
        "                             initializer = 'random_normal')\n",
        "    self.b = self.add_weight(shape=(units,),\n",
        "                             initializer ='zeros')\n",
        "    self.sum_activation = tf.Variable(initial_value=tf.zeros((units,)),\n",
        "                                      trainable=False)\n",
        "    self.number_call = tf.Variable(initial_value= 0,\n",
        "                                      trainable=False)\n",
        "\n",
        "  def call(self, inputs):\n",
        "    activations = tf.matmul(inputs, self.w)+self.b\n",
        "    self.sum_activation.assign_add(tf.reduce_sum(activations, axis=0))\n",
        "    self.number_call.assign_add(input.shape[0])\n",
        "    return activations, self.sum_activation / tf.cast(self.number_call, tf.float32)\n",
        "\n",
        "dense_layer = MyLayerMean(3,5)"
      ],
      "metadata": {
        "id": "kXHifn0ahyjN"
      },
      "execution_count": null,
      "outputs": []
    },
    {
      "cell_type": "code",
      "source": [
        "class MyDropout(Layer):\n",
        "\n",
        "  def __init__(self, rate):\n",
        "    super(MyDropout, self).__init__()\n",
        "    self.rate = rate\n",
        "\n",
        "  def call(self, inputs):\n",
        "    return tf.nn.dropout(inputs, rate=self.rate)  "
      ],
      "metadata": {
        "id": "kQkAuM5qrMmd"
      },
      "execution_count": null,
      "outputs": []
    },
    {
      "cell_type": "code",
      "source": [
        "class MyModel(Model):\n",
        "\n",
        "  def __init__(self, units_1, input_dim_1, units_2, units_3):\n",
        "    super(MyModel, self).__init__()\n",
        "    self.layer_1 = MyLayer(units_1, inputs_dim_1)\n",
        "    self.dropout_1 = MyDropout(0.5)\n",
        "    self.layer_2 = MyLayer(units_2, units_1)\n",
        "    self.dropout_2 = MyDropout(0.5)\n",
        "    self.layer_3 = MyLayer(units_3, units_2)\n",
        "    self.softmax = Softmax()\n",
        "\n",
        "  def call(self, inputs):\n",
        "\n",
        "    X = self.layer_1(inputs)\n",
        "    X = tf.nn.relu(X)\n",
        "    X = self.dropout_1(X)\n",
        "    X = self.layer_2(inputs)\n",
        "    X = tf.nn.relu(X)\n",
        "    X = self.dropout_2(X)\n",
        "    X = self.layer_3(x)\n",
        "\n",
        "    return self.softmax(X) "
      ],
      "metadata": {
        "id": "ip3ejVABzJiz"
      },
      "execution_count": null,
      "outputs": []
    },
    {
      "cell_type": "markdown",
      "source": [
        "#Automatic differentiation"
      ],
      "metadata": {
        "id": "vQ8qTE5A8loW"
      }
    },
    {
      "cell_type": "code",
      "source": [
        "import numpy as np\n",
        "import matplotlib.pyplot as plt"
      ],
      "metadata": {
        "id": "ihI2B8Kc1PVN"
      },
      "execution_count": null,
      "outputs": []
    },
    {
      "cell_type": "code",
      "source": [
        "def MakeNoisyData(m, b, n=20):\n",
        "  X = tf.random.uniform(shape=(n,))\n",
        "  noise = tf.random.normal(shape=(len(X), ), stddev=0.1)\n",
        "  y = m*X + b + noise\n",
        "  return X, y\n",
        "\n",
        "m=1 \n",
        "b=2 \n",
        "X_train, y_train = MakeNoisyData(m, b)\n",
        "plt.plot(X_train, y_train, 'b.')"
      ],
      "metadata": {
        "colab": {
          "base_uri": "https://localhost:8080/",
          "height": 282
        },
        "id": "1cO9QmRI8xQ0",
        "outputId": "fd94e08b-3ac7-4c37-c465-224b649cf834"
      },
      "execution_count": null,
      "outputs": [
        {
          "output_type": "execute_result",
          "data": {
            "text/plain": [
              "[<matplotlib.lines.Line2D at 0x7f417a374990>]"
            ]
          },
          "metadata": {},
          "execution_count": 75
        },
        {
          "output_type": "display_data",
          "data": {
            "image/png": "[encoded data removed]",
            "text/plain": [
              "<Figure size 432x288 with 1 Axes>"
            ]
          },
          "metadata": {
            "needs_background": "light"
          }
        }
      ]
    },
    {
      "cell_type": "code",
      "source": [
        "from tensorflow.keras.layers import Layer"
      ],
      "metadata": {
        "id": "xpNB8iposawP"
      },
      "execution_count": null,
      "outputs": []
    },
    {
      "cell_type": "code",
      "source": [
        "class LinearLayer(Layer):\n",
        "\n",
        "  def __init__(self):\n",
        "    super(LinearLayer, self).__init__()\n",
        "    self.m = self.add_weight(shape=(1,),\n",
        "                             initializer='random_normal')\n",
        "    self.b = self.add_weight(shape=(1,),\n",
        "                             initializer='zeros')\n",
        "    \n",
        "  def call(self, inputs):\n",
        "    return self.m*inputs+self.b\n",
        "\n",
        "linear_regression = LinearLayer()\n",
        "\n",
        "print(linear_regression(X_train))\n",
        "print(linear_regression.weights)"
      ],
      "metadata": {
        "colab": {
          "base_uri": "https://localhost:8080/"
        },
        "id": "Qg8p7OJz-hFM",
        "outputId": "f2c21384-54b9-4d77-9f8b-5a7df290be40"
      },
      "execution_count": null,
      "outputs": [
        {
          "output_type": "stream",
          "name": "stdout",
          "text": [
            "tf.Tensor(\n",
            "[0.00139133 0.04109001 0.02176798 0.01702382 0.00192904 0.01577455\n",
            " 0.00511518 0.02522012 0.00784906 0.02518886 0.00014318 0.04450163\n",
            " 0.00338335 0.02035631 0.0065772  0.00334537 0.02373742 0.0278601\n",
            " 0.04019759 0.03158863], shape=(20,), dtype=float32)\n",
            "[<tf.Variable 'Variable:0' shape=(1,) dtype=float32, numpy=array([0.04474239], dtype=float32)>, <tf.Variable 'Variable:0' shape=(1,) dtype=float32, numpy=array([0.], dtype=float32)>]\n"
          ]
        }
      ]
    },
    {
      "cell_type": "code",
      "source": [
        "def SquaredError(y_pred, y_true):\n",
        "  return tf.reduce_mean(tf.square(y_pred-y_true))\n",
        "\n",
        "starting_loss = SquaredError(linear_regression(X_train), y_train) \n",
        "print('Starting_loss', starting_loss.numpy()) "
      ],
      "metadata": {
        "colab": {
          "base_uri": "https://localhost:8080/"
        },
        "id": "HugAp5xJBfHV",
        "outputId": "5185bd09-0614-4431-b294-467006df3ca7"
      },
      "execution_count": null,
      "outputs": [
        {
          "output_type": "stream",
          "name": "stdout",
          "text": [
            "Starting_loss 5.651774\n"
          ]
        }
      ]
    },
    {
      "cell_type": "code",
      "source": [
        "learning_rate = 0.05\n",
        "steps = 25\n",
        "\n",
        "for i in range(steps):\n",
        "\n",
        "  with tf.GradientTape() as tape:\n",
        "    predictions = linear_regression(X_train)\n",
        "    loss = SquaredError(predictions, y_train)\n",
        "\n",
        "    gradients = tape.gradient(loss, linear_regression.trainable_variables)\n",
        "  \n",
        "  linear_regression.m.assign_sub(learning_rate*gradients[0])\n",
        "  linear_regression.b.assign_sub(learning_rate*gradients[1])\n",
        "\n",
        "  print('Steps %d, Loss %f' % (i, loss.numpy()))  "
      ],
      "metadata": {
        "colab": {
          "base_uri": "https://localhost:8080/"
        },
        "id": "YbOjA-5fCVPu",
        "outputId": "9ca3b9c8-5ac6-41ee-de1d-c05644ec63dc"
      },
      "execution_count": null,
      "outputs": [
        {
          "output_type": "stream",
          "name": "stdout",
          "text": [
            "Steps 0, Loss 5.651774\n",
            "Steps 1, Loss 4.399953\n",
            "Steps 2, Loss 3.426170\n",
            "Steps 3, Loss 2.668669\n",
            "Steps 4, Loss 2.079411\n",
            "Steps 5, Loss 1.621029\n",
            "Steps 6, Loss 1.264453\n",
            "Steps 7, Loss 0.987071\n",
            "Steps 8, Loss 0.771294\n",
            "Steps 9, Loss 0.603439\n",
            "Steps 10, Loss 0.472862\n",
            "Steps 11, Loss 0.371283\n",
            "Steps 12, Loss 0.292261\n",
            "Steps 13, Loss 0.230786\n",
            "Steps 14, Loss 0.182962\n",
            "Steps 15, Loss 0.145755\n",
            "Steps 16, Loss 0.116809\n",
            "Steps 17, Loss 0.094287\n",
            "Steps 18, Loss 0.076764\n",
            "Steps 19, Loss 0.063130\n",
            "Steps 20, Loss 0.052519\n",
            "Steps 21, Loss 0.044262\n",
            "Steps 22, Loss 0.037835\n",
            "Steps 23, Loss 0.032832\n",
            "Steps 24, Loss 0.028937\n"
          ]
        }
      ]
    },
    {
      "cell_type": "code",
      "source": [
        "print('m:{}, trained m:{}'.format(m, linear_regression.m.numpy()))\n",
        "print('b:{}, trained b:{}'.format(b, linear_regression.b.numpy()))\n",
        "\n",
        "plt.plot(X_train, y_train, 'b.')\n",
        "\n",
        "X_linear_regression = np.linspace(min(X_train), max(X_train), 50)\n",
        "plt.plot(X_linear_regression, linear_regression.m*X_linear_regression+linear_regression.b, 'r-')"
      ],
      "metadata": {
        "colab": {
          "base_uri": "https://localhost:8080/",
          "height": 317
        },
        "id": "0b1DVP3EKq1j",
        "outputId": "ee3f5c6a-8eff-49d8-d748-2db9ea703545"
      },
      "execution_count": null,
      "outputs": [
        {
          "output_type": "stream",
          "name": "stdout",
          "text": [
            "m:1, trained m:[0.91458726]\n",
            "b:2, trained b:[1.9012756]\n"
          ]
        },
        {
          "output_type": "execute_result",
          "data": {
            "text/plain": [
              "[<matplotlib.lines.Line2D at 0x7f417b16f710>]"
            ]
          },
          "metadata": {},
          "execution_count": 80
        },
        {
          "output_type": "display_data",
          "data": {
            "image/png": "[encoded data removed]",
            "text/plain": [
              "<Figure size 432x288 with 1 Axes>"
            ]
          },
          "metadata": {
            "needs_background": "light"
          }
        }
      ]
    },
    {
      "cell_type": "markdown",
      "source": [
        "#Custom training loops"
      ],
      "metadata": {
        "id": "YmoY66nv8leB"
      }
    },
    {
      "cell_type": "code",
      "source": [
        "import numpy as np\n",
        "import matplotlib.pyplot as plt\n",
        "import time"
      ],
      "metadata": {
        "id": "DY9EIph7fDOB"
      },
      "execution_count": null,
      "outputs": []
    },
    {
      "cell_type": "code",
      "source": [
        "from tensorflow.keras.models import Model\n",
        "from tensorflow.keras.layers import Layer, Softmax"
      ],
      "metadata": {
        "id": "W_JDQ1eV8vsq"
      },
      "execution_count": null,
      "outputs": []
    },
    {
      "cell_type": "code",
      "source": [
        "class MyLayer(Layer):\n",
        "  \n",
        "  def __init__(self, units):\n",
        "    super(MyLayer, self).__init__()\n",
        "    self.units = units\n",
        "\n",
        "  def build(self, input_shape): \n",
        "    self.w = self.add_weight(shape=(input_shape[-1], self.units),\n",
        "                             initializer = 'random_normal',\n",
        "                             name='kernel')\n",
        "    self.b = self.add_weight(shape=(self.units,),\n",
        "                             initializer ='zeros',\n",
        "                             name='bias')\n",
        "\n",
        "  def call(self, inputs):\n",
        "    return tf.matmul(inputs, self.w)+self.b\n",
        "\n",
        "class MyDropout(Layer):\n",
        "\n",
        "  def __init__(self, rate):\n",
        "    super(MyDropout, self).__init__()\n",
        "    self.rate = rate\n",
        "\n",
        "  def call(self, inputs):\n",
        "    return tf.nn.dropout(inputs, rate=self.rate)\n",
        "\n",
        "class MyModel(Model):\n",
        "\n",
        "  def __init__(self, units_1, units_2, units_3):\n",
        "    super(MyModel, self).__init__()\n",
        "    self.layer_1 = MyLayer(units_1)\n",
        "    self.dropout_1 = MyDropout(0.5)\n",
        "    self.layer_2 = MyLayer(units_2)\n",
        "    self.dropout_2 = MyDropout(0.5)\n",
        "    self.layer_3 = MyLayer(units_3)\n",
        "    self.softmax = Softmax()\n",
        "\n",
        "  def call(self, inputs):\n",
        "\n",
        "    X = self.layer_1(inputs)\n",
        "    X = tf.nn.relu(X)\n",
        "    X = self.dropout_1(X)\n",
        "    X = self.layer_2(X)\n",
        "    X = tf.nn.relu(X)\n",
        "    X = self.dropout_2(X)\n",
        "    X = self.layer_3(X)\n",
        "\n",
        "    return self.softmax(X) \n"
      ],
      "metadata": {
        "id": "t863z4sk84oW"
      },
      "execution_count": null,
      "outputs": []
    },
    {
      "cell_type": "code",
      "source": [
        "model = MyModel(64, 64, 46)\n",
        "print(model(tf.ones((1, 10000))))\n",
        "model.summary()"
      ],
      "metadata": {
        "colab": {
          "base_uri": "https://localhost:8080/"
        },
        "id": "I4-Lzt289V_g",
        "outputId": "2b4f9513-3de5-4d30-ee40-022fbbeab9e7"
      },
      "execution_count": null,
      "outputs": [
        {
          "output_type": "stream",
          "name": "stdout",
          "text": [
            "tf.Tensor(\n",
            "[[0.01622508 0.00598815 0.01807079 0.00800093 0.02391237 0.00352383\n",
            "  0.01071719 0.00384123 0.02418807 0.01503756 0.00589639 0.02750354\n",
            "  0.01961771 0.06705593 0.04886562 0.01145383 0.01570305 0.00825004\n",
            "  0.03672316 0.0063246  0.02906112 0.0047113  0.01763435 0.02158134\n",
            "  0.01069324 0.00649602 0.02294425 0.04294095 0.03736332 0.03970722\n",
            "  0.00597267 0.00380843 0.02670142 0.04548923 0.01571599 0.02406067\n",
            "  0.03850258 0.02204512 0.01650836 0.00961687 0.09981821 0.02119427\n",
            "  0.0095715  0.01519713 0.00648115 0.02928417]], shape=(1, 46), dtype=float32)\n",
            "Model: \"my_model_5\"\n",
            "_________________________________________________________________\n",
            " Layer (type)                Output Shape              Param #   \n",
            "=================================================================\n",
            " my_layer_12 (MyLayer)       multiple                  640064    \n",
            "                                                                 \n",
            " my_dropout_4 (MyDropout)    multiple                  0         \n",
            "                                                                 \n",
            " my_layer_13 (MyLayer)       multiple                  4160      \n",
            "                                                                 \n",
            " my_dropout_5 (MyDropout)    multiple                  0         \n",
            "                                                                 \n",
            " my_layer_14 (MyLayer)       multiple                  2990      \n",
            "                                                                 \n",
            " softmax_5 (Softmax)         multiple                  0         \n",
            "                                                                 \n",
            "=================================================================\n",
            "Total params: 647,214\n",
            "Trainable params: 647,214\n",
            "Non-trainable params: 0\n",
            "_________________________________________________________________\n"
          ]
        }
      ]
    },
    {
      "cell_type": "code",
      "source": [
        "from tensorflow.keras.datasets import reuters\n",
        "\n",
        "(train_data, train_labels), (test_data, test_labels) = reuters.load_data(num_words=10000)\n",
        "\n",
        "class_names = ['cocoa','grain','veg-oil','earn','acq','wheat','copper','housing','money-supply',\n",
        "   'coffee','sugar','trade','reserves','ship','cotton','carcass','crude','nat-gas',\n",
        "   'cpi','money-fx','interest','gnp','meal-feed','alum','oilseed','gold','tin',\n",
        "   'strategic-metal','livestock','retail','ipi','iron-steel','rubber','heat','jobs',\n",
        "   'lei','bop','zinc','orange','pet-chem','dlr','gas','silver','wpi','hog','lead']"
      ],
      "metadata": {
        "id": "W9QMcG28S-SA"
      },
      "execution_count": null,
      "outputs": []
    },
    {
      "cell_type": "code",
      "source": [
        "print('Label: {}'.format(class_names[train_labels[0]]))"
      ],
      "metadata": {
        "colab": {
          "base_uri": "https://localhost:8080/"
        },
        "id": "_eemzvDHo8jz",
        "outputId": "08ed9916-4533-48d0-b664-11c1f27a1c21"
      },
      "execution_count": null,
      "outputs": [
        {
          "output_type": "stream",
          "name": "stdout",
          "text": [
            "Label: earn\n"
          ]
        }
      ]
    },
    {
      "cell_type": "code",
      "source": [
        "word_to_index = reuters.get_word_index()\n",
        "\n",
        "invert_word_index = dict([(value, key) for (key, value) in word_to_index.items()])\n",
        "text_news = ''.join([invert_word_index.get(i-3, '?') for i in train_data[0]])"
      ],
      "metadata": {
        "id": "0CQX1Y1lpL-0"
      },
      "execution_count": null,
      "outputs": []
    },
    {
      "cell_type": "code",
      "source": [
        "print(text_news)"
      ],
      "metadata": {
        "colab": {
          "base_uri": "https://localhost:8080/"
        },
        "id": "yrqZuw5qqgS6",
        "outputId": "2b5a03a4-ca0f-4635-cbe9-b68c472cd4dd"
      },
      "execution_count": null,
      "outputs": [
        {
          "output_type": "stream",
          "name": "stdout",
          "text": [
            "???saidasaresultofitsdecemberacquisitionofspacecoitexpectsearningspersharein1987of115to130dlrspershareupfrom70ctsin1986thecompanysaidpretaxnetshouldrisetonineto10mlndlrsfromsixmlndlrsin1986andrentaloperationrevenuesto19to22mlndlrsfrom125mlndlrsitsaidcashflowpersharethisyearshouldbe250tothreedlrsreuter3\n"
          ]
        }
      ]
    },
    {
      "cell_type": "code",
      "source": [
        "def bag_of_words(text_samples, elements=10000):\n",
        "    output = np.zeros((len(text_samples), elements))\n",
        "    for i, word in enumerate(text_samples):\n",
        "        output[i, word] = 1.\n",
        "    return output\n",
        "\n",
        "X_train = bag_of_words(train_data)\n",
        "X_test = bag_of_words(test_data)\n",
        "\n",
        "print(\"Shape of X_train:\", X_train.shape)\n",
        "print(\"Shape of X_test:\", X_test.shape)"
      ],
      "metadata": {
        "colab": {
          "base_uri": "https://localhost:8080/"
        },
        "id": "CyH33sJPqo1j",
        "outputId": "3a60a363-74e7-4232-dd9f-edd755cf7fbc"
      },
      "execution_count": null,
      "outputs": [
        {
          "output_type": "stream",
          "name": "stdout",
          "text": [
            "Shape of X_train: (8982, 10000)\n",
            "Shape of X_test: (2246, 10000)\n"
          ]
        }
      ]
    },
    {
      "cell_type": "code",
      "source": [
        "loss_object = tf.keras.losses.SparseCategoricalCrossentropy()\n",
        "\n",
        "def loss(model, X, y, wd):\n",
        "    kernel_variables = []\n",
        "    for l in model.layers:\n",
        "        for w in l.weights:\n",
        "            if 'kernel' in w.name:\n",
        "                kernel_variables.append(w)\n",
        "    wd_penalty = wd * tf.reduce_sum([tf.reduce_sum(tf.square(k)) for k in kernel_variables])\n",
        "    y_ = model(X)\n",
        "    return loss_object(y_true=y, y_pred=y_) + wd_penalty\n",
        "\n",
        "optimizer = tf.keras.optimizers.Adam(learning_rate=0.001)"
      ],
      "metadata": {
        "id": "kOQMfDbSqmn5"
      },
      "execution_count": null,
      "outputs": []
    },
    {
      "cell_type": "code",
      "source": [
        "def grad(model, inputs, targets, wd):\n",
        "    with tf.GradientTape() as tape:\n",
        "        loss_value = loss(model, inputs, targets, wd)\n",
        "    return loss_value, tape.gradient(loss_value, model.trainable_variables)"
      ],
      "metadata": {
        "id": "QHk_gHa2rMGM"
      },
      "execution_count": null,
      "outputs": []
    },
    {
      "cell_type": "code",
      "source": [
        ""
      ],
      "metadata": {
        "id": "9beFjEfUrbmb"
      },
      "execution_count": null,
      "outputs": []
    },
    {
      "cell_type": "code",
      "source": [
        ""
      ],
      "metadata": {
        "id": "TBI4iqZZzt4E"
      },
      "execution_count": null,
      "outputs": []
    }
  ]
}